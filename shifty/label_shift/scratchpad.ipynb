{
 "cells": [
  {
   "cell_type": "markdown",
   "metadata": {},
   "source": [
    "# Setup"
   ]
  },
  {
   "cell_type": "code",
   "execution_count": null,
   "metadata": {},
   "outputs": [],
   "source": [
    "# Silence WARNING:root:The use of `check_types` is deprecated and does not have any effect.\n",
    "# https://github.com/tensorflow/probability/issues/1523\n",
    "import logging\n",
    "\n",
    "logger = logging.getLogger()\n",
    "\n",
    "\n",
    "class CheckTypesFilter(logging.Filter):\n",
    "    def filter(self, record):\n",
    "        return \"check_types\" not in record.getMessage()\n",
    "\n",
    "\n",
    "logger.addFilter(CheckTypesFilter())"
   ]
  },
  {
   "cell_type": "code",
   "execution_count": null,
   "metadata": {},
   "outputs": [],
   "source": [
    "# If you want to  assign 2 TPU cores per process,\n",
    "# for both notebook and command line\n",
    "#https://docs.google.com/document/d/1sbRFVSPePq_8oGBntSOmG0V5gqxyNiuDn-4_ph8eoBc/edit#heading=h.y89aert1620u\n",
    "\n",
    "import os \n",
    "# 2x 2 chips (4 cores) per process:\n",
    "os.environ[\"TPU_CHIPS_PER_HOST_BOUNDS\"] = \"1,2,1\"\n",
    "os.environ[\"TPU_HOST_BOUNDS\"] = \"1,1,1\"\n",
    "# Different per process:\n",
    "os.environ[\"TPU_VISIBLE_DEVICES\"] = \"0,1\" # Change to \"2,3\" for the second machine\n",
    "# Pick a unique port per process\n",
    "os.environ[\"TPU_MESH_CONTROLLER_ADDRESS\"] = \"localhost:8476\"\n",
    "os.environ[\"TPU_MESH_CONTROLLER_PORT\"] = \"8476\"\n",
    "\n",
    "print('done')"
   ]
  },
  {
   "cell_type": "code",
   "execution_count": null,
   "metadata": {},
   "outputs": [],
   "source": [
    "import os \n",
    "cpu_count = os.cpu_count()\n",
    "print(cpu_count)\n",
    "\n",
    "# Run jax on multiple CPU cores\n",
    "# https://github.com/google/jax/issues/5506\n",
    "# https://stackoverflow.com/questions/72328521/jax-pmap-with-multi-core-cpu\n",
    "import os \n",
    "os.environ[\"XLA_FLAGS\"] = '--xla_force_host_platform_device_count=2'\n"
   ]
  },
  {
   "cell_type": "code",
   "execution_count": null,
   "metadata": {},
   "outputs": [],
   "source": [
    "import jax\n",
    "print(jax.devices())"
   ]
  },
  {
   "cell_type": "code",
   "execution_count": null,
   "metadata": {},
   "outputs": [],
   "source": [
    "%reload_ext autoreload"
   ]
  },
  {
   "cell_type": "code",
   "execution_count": null,
   "metadata": {},
   "outputs": [],
   "source": [
    "from shifty.label_shift.labelshift import *\n",
    "\n",
    "print(nfactors)"
   ]
  },
  {
   "cell_type": "markdown",
   "metadata": {},
   "source": [
    "# MNIST"
   ]
  },
  {
   "cell_type": "code",
   "execution_count": null,
   "metadata": {},
   "outputs": [],
   "source": [
    "import torchvision\n",
    "mnist_train = torchvision.datasets.MNIST(root=\"~/data\", train=True, download=True)\n",
    "print(mnist_train.data.shape)\n",
    "print(mnist_train.targets.shape)\n",
    "images = np.array(mnist_train.data) / 255.0"
   ]
  },
  {
   "cell_type": "code",
   "execution_count": null,
   "metadata": {},
   "outputs": [],
   "source": [
    "\n",
    "import skimage\n",
    "print(skimage.__version__)\n",
    "\n",
    "import skimage.util\n",
    "m = skimage.util.montage(images[:9, :, :])\n",
    "print(m.shape)\n",
    "img = plt.imshow(m, cmap=plt.cm.gray);\n",
    "plt.axis('off');"
   ]
  },
  {
   "cell_type": "code",
   "execution_count": null,
   "metadata": {},
   "outputs": [],
   "source": [
    "m = skimage.util.montage(images[:9, :, :])\n",
    "img = plt.imshow(m, cmap=plt.cm.gray);\n",
    "plt.axis('off');"
   ]
  },
  {
   "cell_type": "code",
   "execution_count": null,
   "metadata": {},
   "outputs": [],
   "source": [
    "from augly import image\n",
    "\n",
    "def processor(X, angle):\n",
    "    X_shift = image.aug_np_wrapper(X, image.rotate, degrees=angle)\n",
    "    size_im = X_shift.shape[0]\n",
    "    size_pad = (28 - size_im) // 2\n",
    "    size_pad_mod = (28 - size_im) % 2\n",
    "    X_shift = np.pad(X_shift, (size_pad, size_pad + size_pad_mod))    \n",
    "    return X_shift\n",
    "\n",
    "\n"
   ]
  },
  {
   "cell_type": "markdown",
   "metadata": {},
   "source": [
    "# Parallel"
   ]
  },
  {
   "cell_type": "code",
   "execution_count": null,
   "metadata": {},
   "outputs": [],
   "source": [
    "from math import sqrt\n",
    "from joblib import Parallel, delayed, parallel_backend\n",
    "from itertools import repeat\n",
    "from time import time"
   ]
  },
  {
   "cell_type": "code",
   "execution_count": null,
   "metadata": {},
   "outputs": [],
   "source": [
    "import itertools\n",
    "\n",
    "#iter = itertools.product('ABCD', repeat=2)\n",
    "\n",
    "arg1 = np.reshape(np.arange(0, 6), (3, 2)) \n",
    "arg2 = [1, 2]\n",
    "arg3 = ['foo', 'bar', 'baz']\n",
    "arg3 = ['foo']\n",
    "\n",
    "def make_arg_combo(*args):\n",
    "    iter = itertools.product(*args)\n",
    "    combo = list(iter)\n",
    "    return np.array(combo, dtype=object) # one row per combo\n",
    "\n",
    "arg_combo = make_arg_combo(arg1, arg2, arg3)\n",
    "print(arg_combo)\n",
    "\n",
    "nproc = 2\n",
    "arg_blocks  = np.array_split(arg_combo, nproc)\n",
    "\n",
    "print(len(arg_blocks))\n",
    "print(arg_blocks[0])"
   ]
  },
  {
   "cell_type": "code",
   "execution_count": null,
   "metadata": {},
   "outputs": [],
   "source": [
    "args = list(range(10))\n",
    "print(args)\n",
    "def f(a):\n",
    "    return jnp.sqrt(jnp.power(a,2))\n",
    "\n",
    "out1 = [f(arg) for arg in args]\n",
    "print(out1)\n",
    "\n",
    "out2 = Parallel(n_jobs=2)(delayed(f)(arg) for arg in args)\n",
    "print(out2)"
   ]
  },
  {
   "cell_type": "code",
   "execution_count": null,
   "metadata": {},
   "outputs": [],
   "source": [
    "\n",
    "\n",
    "KEY = jr.PRNGKey(42)\n",
    "\n",
    "def f(arg):\n",
    "    key, x = arg\n",
    "    N = 6000\n",
    "    mat = jr.normal(KEY, (N, N))\n",
    "    return jnp.max(mat * mat * x)\n",
    "\n",
    "args = list(zip(repeat(KEY), np.arange(200)))\n",
    "\n",
    "init_time = time()\n",
    "out1 = [f(arg) for arg in args]\n",
    "out1 = np.array(out1)\n",
    "end_time = time()\n",
    "print(f\"Serial Time elapsed: {end_time - init_time:.2f}s\")\n",
    "\n",
    "init_time = time()\n",
    "out2 = Parallel(n_jobs=10, prefer=\"threads\", verbose=1)(delayed(f)(arg) for arg in args)\n",
    "#out2 = Parallel(n_jobs=-2, verbose=1)(delayed(f)(arg) for arg in args)\n",
    "out2 = np.array(out2)\n",
    "end_time = time()\n",
    "print(f\"Parallel Time elapsed: {end_time - init_time:.2f}s\")\n",
    "\n",
    "assert jnp.allclose(out1, out2)\n"
   ]
  },
  {
   "cell_type": "code",
   "execution_count": null,
   "metadata": {},
   "outputs": [],
   "source": [
    "import pandas as pd\n",
    "\n",
    "import itertools\n",
    "\n",
    "arg1 = np.reshape(np.arange(0, 6), (3, 2)) \n",
    "arg2 = [1, 2]\n",
    "#arg3 = ['foo', 'bar', 'baz']\n",
    "arg3 = ['foo']\n",
    "\n",
    "def make_arg_combo(*args):\n",
    "    iter = itertools.product(*args)\n",
    "    combo = list(iter)\n",
    "    return np.array(combo, dtype=object) # one row per combo\n",
    "\n",
    "arg_combo = make_arg_combo(arg1, arg2, arg3)\n",
    "print(arg_combo)\n",
    "\n",
    "\n",
    "df = pd.DataFrame({\"data\": arg_combo[:,0], \"sf\": arg_combo[:,1], \"str\": arg_combo[:,2]})\n",
    "print(df)"
   ]
  },
  {
   "cell_type": "code",
   "execution_count": null,
   "metadata": {},
   "outputs": [],
   "source": [
    "def process_single(arg1, arg2, arg3):\n",
    "    return arg1  * arg2\n",
    "    \n",
    "def process_batch(args_list):\n",
    "    X_out = []\n",
    "    for arg_tuple in  args_list:\n",
    "        output = process_single(*arg_tuple)\n",
    "        X_out.append(output)\n",
    "    return np.stack(X_out, axis=0)\n",
    "\n",
    "def process_all(args_blocks):\n",
    "    output = []\n",
    "    for batch in arg_blocks:\n",
    "        out = process_batch(batch)\n",
    "        output.append(out)\n",
    "    return np.concatenate(output, axis=0)\n",
    "    \n",
    "output1 = process_batch(arg_combo)\n",
    "print(len(output1))\n",
    "print(output1)\n",
    "\n",
    "output2 = process_all(arg_blocks)\n",
    "print(len(output2))\n",
    "print(output2)"
   ]
  }
 ],
 "metadata": {
  "kernelspec": {
   "display_name": "Python 3.8.10 64-bit",
   "language": "python",
   "name": "python3"
  },
  "language_info": {
   "name": "python",
   "version": "3.8.10"
  },
  "orig_nbformat": 4,
  "vscode": {
   "interpreter": {
    "hash": "31f2aee4e71d21fbe5cf8b01ff0e069b9275f58929596ceb00d14d90e3e16cd6"
   }
  }
 },
 "nbformat": 4,
 "nbformat_minor": 2
}
