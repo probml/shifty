{
 "cells": [
  {
   "cell_type": "markdown",
   "metadata": {},
   "source": [
    "# Setup"
   ]
  },
  {
   "cell_type": "code",
   "execution_count": 1,
   "metadata": {},
   "outputs": [],
   "source": [
    "%reload_ext autoreload"
   ]
  },
  {
   "cell_type": "code",
   "execution_count": 2,
   "metadata": {},
   "outputs": [
    {
     "name": "stdout",
     "output_type": "stream",
     "text": [
      "/home/kpmurphy/github/shifty\n"
     ]
    },
    {
     "name": "stderr",
     "output_type": "stream",
     "text": [
      "2022-10-12 17:14:28.572763: W tensorflow/stream_executor/platform/default/dso_loader.cc:64] Could not load dynamic library 'libcudart.so.11.0'; dlerror: libcudart.so.11.0: cannot open shared object file: No such file or directory; LD_LIBRARY_PATH: :/usr/local/lib\n",
      "2022-10-12 17:14:28.606531: E tensorflow/stream_executor/cuda/cuda_blas.cc:2981] Unable to register cuBLAS factory: Attempting to register factory for plugin cuBLAS when one has already been registered\n",
      "2022-10-12 17:14:29.381548: W tensorflow/stream_executor/platform/default/dso_loader.cc:64] Could not load dynamic library 'libnvinfer.so.7'; dlerror: libnvinfer.so.7: cannot open shared object file: No such file or directory; LD_LIBRARY_PATH: :/usr/local/lib\n",
      "2022-10-12 17:14:29.381673: W tensorflow/stream_executor/platform/default/dso_loader.cc:64] Could not load dynamic library 'libnvinfer_plugin.so.7'; dlerror: libnvinfer_plugin.so.7: cannot open shared object file: No such file or directory; LD_LIBRARY_PATH: :/usr/local/lib\n",
      "2022-10-12 17:14:29.381686: W tensorflow/compiler/tf2tensorrt/utils/py_utils.cc:38] TF-TRT Warning: Cannot dlopen some TensorRT libraries. If you would like to use Nvidia GPU with TensorRT, please make sure the missing libraries mentioned above are installed properly.\n"
     ]
    }
   ],
   "source": [
    "%cd /home/kpmurphy/github/shifty\n",
    "#from shifty.skax.logreg_flax import *\n",
    "from shifty.skax.skax import *\n",
    "#from shifty.tta.tta import *\n",
    "from shifty.tta.data_generator import *\n",
    "from shifty.tta.label_space import *\n"
   ]
  },
  {
   "cell_type": "code",
   "execution_count": 3,
   "metadata": {},
   "outputs": [],
   "source": [
    "# Silence WARNING:root:The use of `check_types` is deprecated and does not have any effect.\n",
    "# https://github.com/tensorflow/probability/issues/1523\n",
    "import logging\n",
    "\n",
    "logger = logging.getLogger()\n",
    "\n",
    "\n",
    "class CheckTypesFilter(logging.Filter):\n",
    "    def filter(self, record):\n",
    "        return \"check_types\" not in record.getMessage()\n",
    "\n",
    "\n",
    "logger.addFilter(CheckTypesFilter())"
   ]
  },
  {
   "cell_type": "code",
   "execution_count": 4,
   "metadata": {},
   "outputs": [],
   "source": [
    "\n",
    "import matplotlib.pyplot as plt\n",
    "import numpy as np\n",
    "np.set_printoptions(precision=3)\n",
    "import scipy.stats\n",
    "import einops\n",
    "from functools import partial\n",
    "\n",
    "from functools import partial\n",
    "from collections import namedtuple\n",
    "import itertools\n",
    "from itertools import repeat\n",
    "from time import time\n",
    "import chex\n",
    "import typing\n",
    "from typing import Any, Callable, Sequence\n",
    "\n",
    "import jax\n",
    "import jax.random as jr\n",
    "import jax.numpy as jnp\n",
    "from jax import vmap, grad, jit\n",
    "from jax import lax, random, numpy as jnp\n",
    "import jax.scipy as jsp\n",
    "\n",
    "from flax.core import freeze, unfreeze\n",
    "from flax import linen as nn\n",
    "import flax\n",
    "\n",
    "import jaxopt\n",
    "import optax\n",
    "import tensorflow as tf\n",
    "import tensorflow_datasets as tfds\n",
    "\n",
    "import torch\n",
    "from torch.utils.data import TensorDataset, DataLoader\n",
    "\n",
    "import distrax\n",
    "from tensorflow_probability.substrates import jax as tfp\n",
    "tfd = tfp.distributions\n",
    "from tensorflow_probability.substrates.jax.distributions import MultivariateNormalFullCovariance as MVN\n",
    "\n",
    "#jax.config.update(\"jax_enable_x64\", False)\n",
    "\n",
    "\n",
    "import sklearn.datasets\n",
    "from sklearn.model_selection import train_test_split\n",
    "import sklearn\n",
    "from sklearn.preprocessing import PolynomialFeatures, StandardScaler\n",
    "from sklearn.pipeline import make_pipeline, Pipeline\n",
    "from sklearn.linear_model import LogisticRegression"
   ]
  },
  {
   "cell_type": "code",
   "execution_count": 5,
   "metadata": {},
   "outputs": [
    {
     "name": "stdout",
     "output_type": "stream",
     "text": [
      "96\n",
      "[TpuDevice(id=0, process_index=0, coords=(0,0,0), core_on_chip=0), TpuDevice(id=1, process_index=0, coords=(0,0,0), core_on_chip=1), TpuDevice(id=2, process_index=0, coords=(1,0,0), core_on_chip=0), TpuDevice(id=3, process_index=0, coords=(1,0,0), core_on_chip=1), TpuDevice(id=4, process_index=0, coords=(0,1,0), core_on_chip=0), TpuDevice(id=5, process_index=0, coords=(0,1,0), core_on_chip=1), TpuDevice(id=6, process_index=0, coords=(1,1,0), core_on_chip=0), TpuDevice(id=7, process_index=0, coords=(1,1,0), core_on_chip=1)]\n"
     ]
    }
   ],
   "source": [
    "import os \n",
    "cpu_count = os.cpu_count()\n",
    "print(cpu_count)\n",
    "\n",
    "# Run jax on multiple CPU cores\n",
    "# https://github.com/google/jax/issues/5506\n",
    "# https://stackoverflow.com/questions/72328521/jax-pmap-with-multi-core-cpu\n",
    "import os \n",
    "#os.environ[\"XLA_FLAGS\"] = '--xla_force_host_platform_device_count=90'\n",
    "\n",
    "import jax\n",
    "print(jax.devices())"
   ]
  },
  {
   "cell_type": "markdown",
   "metadata": {},
   "source": [
    "# Code"
   ]
  },
  {
   "cell_type": "code",
   "execution_count": 113,
   "metadata": {},
   "outputs": [
    {
     "name": "stderr",
     "output_type": "stream",
     "text": [
      "[autoreload of shifty.tta.estimators failed: Traceback (most recent call last):\n",
      "  File \"/home/kpmurphy/mambaforge/lib/python3.10/site-packages/IPython/extensions/autoreload.py\", line 257, in check\n",
      "    superreload(m, reload, self.old_objects)\n",
      "  File \"/home/kpmurphy/mambaforge/lib/python3.10/site-packages/IPython/extensions/autoreload.py\", line 480, in superreload\n",
      "    update_generic(old_obj, new_obj)\n",
      "  File \"/home/kpmurphy/mambaforge/lib/python3.10/site-packages/IPython/extensions/autoreload.py\", line 377, in update_generic\n",
      "    update(a, b)\n",
      "  File \"/home/kpmurphy/mambaforge/lib/python3.10/site-packages/IPython/extensions/autoreload.py\", line 329, in update_class\n",
      "    if update_generic(old_obj, new_obj):\n",
      "  File \"/home/kpmurphy/mambaforge/lib/python3.10/site-packages/IPython/extensions/autoreload.py\", line 377, in update_generic\n",
      "    update(a, b)\n",
      "  File \"/home/kpmurphy/mambaforge/lib/python3.10/site-packages/IPython/extensions/autoreload.py\", line 289, in update_function\n",
      "    setattr(old, name, getattr(new, name))\n",
      "ValueError: __init__() requires a code object with 0 free vars, not 1\n",
      "]\n"
     ]
    },
    {
     "data": {
      "text/plain": [
       "'/home/kpmurphy/github/shifty'"
      ]
     },
     "execution_count": 113,
     "metadata": {},
     "output_type": "execute_result"
    }
   ],
   "source": [
    "%pwd"
   ]
  },
  {
   "cell_type": "code",
   "execution_count": 60,
   "metadata": {},
   "outputs": [],
   "source": [
    "from shifty.tta.label_space import *\n",
    "from shifty.tta.data_generator import *\n",
    "from shifty.tta.tta import *\n",
    "from shifty.tta.estimators import *\n",
    "from shifty.tta.estimators_test import *\n",
    "\n",
    "from shifty.skax.logreg_flax import *\n",
    "from shifty.skax.skax import *\n",
    "\n"
   ]
  },
  {
   "cell_type": "code",
   "execution_count": 208,
   "metadata": {},
   "outputs": [
    {
     "data": {
      "text/plain": [
       "[TpuDevice(id=0, process_index=0, coords=(0,0,0), core_on_chip=0),\n",
       " TpuDevice(id=1, process_index=0, coords=(0,0,0), core_on_chip=1),\n",
       " TpuDevice(id=2, process_index=0, coords=(1,0,0), core_on_chip=0),\n",
       " TpuDevice(id=3, process_index=0, coords=(1,0,0), core_on_chip=1),\n",
       " TpuDevice(id=4, process_index=0, coords=(0,1,0), core_on_chip=0),\n",
       " TpuDevice(id=5, process_index=0, coords=(0,1,0), core_on_chip=1),\n",
       " TpuDevice(id=6, process_index=0, coords=(1,1,0), core_on_chip=0),\n",
       " TpuDevice(id=7, process_index=0, coords=(1,1,0), core_on_chip=1)]"
      ]
     },
     "execution_count": 208,
     "metadata": {},
     "output_type": "execute_result"
    }
   ],
   "source": [
    "jax.devices()"
   ]
  },
  {
   "cell_type": "code",
   "execution_count": 216,
   "metadata": {},
   "outputs": [
    {
     "name": "stdout",
     "output_type": "stream",
     "text": [
      "oracle\n",
      "[[0. 0. 0. 0. 0. 0. 0. 0. 0.]\n",
      " [0. 0. 0. 0. 0. 0. 0. 0. 0.]\n",
      " [0. 0. 0. 0. 0. 0. 0. 0. 0.]]\n",
      "oracle-prior\n",
      "[[0.001 0.    0.    0.    0.    0.    0.    0.001 0.   ]\n",
      " [0.    0.    0.    0.    0.001 0.001 0.001 0.001 0.001]\n",
      " [0.    0.001 0.001 0.001 0.002 0.002 0.002 0.002 0.002]]\n",
      "unadapted\n",
      "[[0.01  0.003 0.001 0.001 0.006 0.013 0.023 0.037 0.054]\n",
      " [0.007 0.002 0.    0.003 0.01  0.021 0.035 0.052 0.079]\n",
      " [0.01  0.003 0.001 0.003 0.008 0.017 0.028 0.04  0.058]]\n",
      "em\n",
      "running em\n"
     ]
    },
    {
     "ename": "AttributeError",
     "evalue": "'EMEstimator' object has no attribute 'prior_strength'",
     "output_type": "error",
     "traceback": [
      "\u001b[0;31m---------------------------------------------------------------------------\u001b[0m",
      "\u001b[0;31mAttributeError\u001b[0m                            Traceback (most recent call last)",
      "Cell \u001b[0;32mIn [216], line 2\u001b[0m\n\u001b[1;32m      1\u001b[0m \u001b[39mfrom\u001b[39;00m \u001b[39mshifty\u001b[39;00m\u001b[39m.\u001b[39;00m\u001b[39mtta\u001b[39;00m\u001b[39m.\u001b[39;00m\u001b[39mtta\u001b[39;00m \u001b[39mimport\u001b[39;00m \u001b[39m*\u001b[39m\n\u001b[0;32m----> 2\u001b[0m run_expt(\u001b[39m0.3\u001b[39m, ntrials\u001b[39m=\u001b[39m\u001b[39m3\u001b[39m, sf\u001b[39m=\u001b[39m\u001b[39m3\u001b[39m)\n",
      "File \u001b[0;32m~/github/shifty/shifty/tta/tta.py:49\u001b[0m, in \u001b[0;36mrun_expt\u001b[0;34m(corr_source, ntrials, sf)\u001b[0m\n\u001b[1;32m     47\u001b[0m \u001b[39mfor\u001b[39;00m name, estimator \u001b[39min\u001b[39;00m methods\u001b[39m.\u001b[39mitems():\n\u001b[1;32m     48\u001b[0m     \u001b[39mprint\u001b[39m(name)\n\u001b[0;32m---> 49\u001b[0m     losses_mean[name], losses_std[name] \u001b[39m=\u001b[39m evaluate_estimator_multi_trial(keys,\n\u001b[1;32m     50\u001b[0m         src_dist, corr_targets, estimator, nsource_samples \u001b[39m=\u001b[39;49m \u001b[39m500\u001b[39;49m, ntarget_samples\u001b[39m=\u001b[39;49m\u001b[39m100\u001b[39;49m)\n\u001b[1;32m     53\u001b[0m plt\u001b[39m.\u001b[39mfigure()\n\u001b[1;32m     54\u001b[0m \u001b[39mfor\u001b[39;00m name \u001b[39min\u001b[39;00m methods\u001b[39m.\u001b[39mkeys():\n",
      "File \u001b[0;32m~/github/shifty/shifty/tta/estimators.py:187\u001b[0m, in \u001b[0;36mevaluate_estimator_multi_trial\u001b[0;34m(keys, src_dist, corr_targets, estimator, nsource_samples, ntarget_samples)\u001b[0m\n\u001b[1;32m    185\u001b[0m \u001b[39mdef\u001b[39;00m \u001b[39mf\u001b[39m(key):\n\u001b[1;32m    186\u001b[0m     \u001b[39mreturn\u001b[39;00m evaluate_estimator(key, src_dist, corr_targets, estimator, nsource_samples, ntarget_samples)\n\u001b[0;32m--> 187\u001b[0m losses_per_trial \u001b[39m=\u001b[39m vmap(f)(keys) \u001b[39m# (ntrials, ntargets)\u001b[39;00m\n\u001b[1;32m    188\u001b[0m \u001b[39mprint\u001b[39m(losses_per_trial)\n\u001b[1;32m    189\u001b[0m losses_mean \u001b[39m=\u001b[39m jnp\u001b[39m.\u001b[39mmean(losses_per_trial, axis\u001b[39m=\u001b[39m\u001b[39m0\u001b[39m) \u001b[39m# (ntargets,)\u001b[39;00m\n",
      "    \u001b[0;31m[... skipping hidden 3 frame]\u001b[0m\n",
      "File \u001b[0;32m~/github/shifty/shifty/tta/estimators.py:186\u001b[0m, in \u001b[0;36mevaluate_estimator_multi_trial.<locals>.f\u001b[0;34m(key)\u001b[0m\n\u001b[1;32m    185\u001b[0m \u001b[39mdef\u001b[39;00m \u001b[39mf\u001b[39m(key):\n\u001b[0;32m--> 186\u001b[0m     \u001b[39mreturn\u001b[39;00m evaluate_estimator(key, src_dist, corr_targets, estimator, nsource_samples, ntarget_samples)\n",
      "File \u001b[0;32m~/github/shifty/shifty/tta/estimators.py:181\u001b[0m, in \u001b[0;36mevaluate_estimator\u001b[0;34m(key, src_dist, corr_targets, estimator, nsource_samples, ntarget_samples)\u001b[0m\n\u001b[1;32m    179\u001b[0m     loss \u001b[39m=\u001b[39m evaluate_predictions_mse(true_prob, pred_prob)\n\u001b[1;32m    180\u001b[0m     \u001b[39mreturn\u001b[39;00m loss\n\u001b[0;32m--> 181\u001b[0m metrics \u001b[39m=\u001b[39m vmap(f)(corr_targets)\n\u001b[1;32m    182\u001b[0m \u001b[39mreturn\u001b[39;00m metrics\n",
      "    \u001b[0;31m[... skipping hidden 3 frame]\u001b[0m\n",
      "File \u001b[0;32m~/github/shifty/shifty/tta/estimators.py:176\u001b[0m, in \u001b[0;36mevaluate_estimator.<locals>.f\u001b[0;34m(corr)\u001b[0m\n\u001b[1;32m    174\u001b[0m Xt, Yt, At \u001b[39m=\u001b[39m target_dist\u001b[39m.\u001b[39msample(key, ntarget_samples)\n\u001b[1;32m    175\u001b[0m true_prob \u001b[39m=\u001b[39m target_dist\u001b[39m.\u001b[39mpredict_class(Xt)\n\u001b[0;32m--> 176\u001b[0m estimator\u001b[39m.\u001b[39;49mfit_target(Xt, target_dist)\n\u001b[1;32m    177\u001b[0m pred_prob \u001b[39m=\u001b[39m estimator\u001b[39m.\u001b[39mpredict_class_target(Xt)\n\u001b[1;32m    178\u001b[0m \u001b[39m#return evaluate_predictions_accuracy(Yt, pred_prob)\u001b[39;00m\n",
      "File \u001b[0;32m~/github/shifty/shifty/tta/estimators.py:100\u001b[0m, in \u001b[0;36mEMEstimator.fit_target\u001b[0;34m(***failed resolving arguments***)\u001b[0m\n\u001b[1;32m     97\u001b[0m \u001b[39mprint\u001b[39m(\u001b[39m'\u001b[39m\u001b[39mrunning em\u001b[39m\u001b[39m'\u001b[39m)\n\u001b[1;32m     98\u001b[0m nmix \u001b[39m=\u001b[39m \u001b[39mlen\u001b[39m(\u001b[39mself\u001b[39m\u001b[39m.\u001b[39mprior_target)\n\u001b[1;32m     99\u001b[0m \u001b[39mself\u001b[39m\u001b[39m.\u001b[39mprior_target \u001b[39m=\u001b[39m em(X, \u001b[39mself\u001b[39m\u001b[39m.\u001b[39mprior_source, \u001b[39mself\u001b[39m\u001b[39m.\u001b[39mlik_fn, \n\u001b[0;32m--> 100\u001b[0m     \u001b[39mself\u001b[39m\u001b[39m.\u001b[39mnum_em_iter, \u001b[39mself\u001b[39;49m\u001b[39m.\u001b[39;49mprior_strength\u001b[39m*\u001b[39mjnp\u001b[39m.\u001b[39mones(nmix))\n",
      "\u001b[0;31mAttributeError\u001b[0m: 'EMEstimator' object has no attribute 'prior_strength'"
     ]
    }
   ],
   "source": [
    "from shifty.tta.tta import *\n",
    "run_expt(0.3, ntrials=3, sf=3)"
   ]
  },
  {
   "cell_type": "code",
   "execution_count": 212,
   "metadata": {},
   "outputs": [
    {
     "name": "stdout",
     "output_type": "stream",
     "text": [
      "oracle-prior\n"
     ]
    },
    {
     "name": "stderr",
     "output_type": "stream",
     "text": [
      "/home/kpmurphy/mambaforge/lib/python3.10/site-packages/distrax/_src/utils/conversion.py:143: UserWarning: Explicitly requested dtype <class 'jax.numpy.float64'> requested in astype is not available, and will be truncated to dtype float32. To enable more dtypes, set the jax_enable_x64 configuration option or the JAX_ENABLE_X64 shell environment variable. See https://github.com/google/jax#current-gotchas for more.\n",
      "  return x.astype(jnp.float_)\n"
     ]
    },
    {
     "name": "stdout",
     "output_type": "stream",
     "text": [
      "unadapted\n",
      "em\n"
     ]
    },
    {
     "data": {
      "image/png": "[encoded data removed]",
      "text/plain": [
       "<Figure size 640x480 with 1 Axes>"
      ]
     },
     "metadata": {},
     "output_type": "display_data"
    }
   ],
   "source": [
    "from shifty.tta.tta import *\n",
    "run_expt(0.3, ntrials=3, sf=3)"
   ]
  }
 ],
 "metadata": {
  "kernelspec": {
   "display_name": "Python 3.10.6 ('base')",
   "language": "python",
   "name": "python3"
  },
  "language_info": {
   "codemirror_mode": {
    "name": "ipython",
    "version": 3
   },
   "file_extension": ".py",
   "mimetype": "text/x-python",
   "name": "python",
   "nbconvert_exporter": "python",
   "pygments_lexer": "ipython3",
   "version": "3.10.6"
  },
  "orig_nbformat": 4,
  "vscode": {
   "interpreter": {
    "hash": "7e1aafb1a5b8a6c5cc9d9564fe8ce376ad7cec1976d94f450e8b79a35770c931"
   }
  }
 },
 "nbformat": 4,
 "nbformat_minor": 2
}
